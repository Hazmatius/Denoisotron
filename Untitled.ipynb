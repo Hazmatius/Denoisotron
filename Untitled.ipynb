{
 "cells": [
  {
   "cell_type": "code",
   "execution_count": 1,
   "metadata": {},
   "outputs": [],
   "source": [
    "import numpy as np\n",
    "import exifread\n",
    "from scipy import io as scipy_io\n",
    "from skimage import io as skimage_io\n",
    "import os"
   ]
  },
  {
   "cell_type": "code",
   "execution_count": null,
   "metadata": {},
   "outputs": [],
   "source": [
    "# scipy_io.savemat('/Users/raymondbaranski/Desktop/test.mat', dict(counts=data))"
   ]
  },
  {
   "cell_type": "code",
   "execution_count": 15,
   "metadata": {},
   "outputs": [],
   "source": [
    "def loadTIFF_folder(point_path, subfolder='TIFs'):\n",
    "    data_path = point_path + '/' + subfolder + '/'\n",
    "    files = os.listdir(data_path)\n",
    "    tifs = list()\n",
    "    for file in files:\n",
    "        if file.endswith('.tif') or file.endswith('.tiff'):\n",
    "            tifs.append(file)\n",
    "    labels = list()\n",
    "    counts = dict()\n",
    "    tags = dict()\n",
    "    for tif in tifs:\n",
    "        label = tif.replace('.tif', '')\n",
    "        labels.append(label)\n",
    "        counts[label] = skimage_io.imread(data_path + '/' + tif).astype(int)\n",
    "        with open(data_path + '/' + tif, 'rb') as f:\n",
    "            tags[label] = exifread.process_file(f)\n",
    "    point = dict()\n",
    "    point['counts'] = counts\n",
    "    point['labels'] = labels\n",
    "    point['tags'] = tags\n",
    "    return point\n",
    "\n",
    "def estimate_lambda(point, network):\n",
    "    if torch.cuda.is_available():\n",
    "        device = torch.device('cuda')\n",
    "    else:\n",
    "        device = torch.device('cpu')\n",
    "    \n",
    "    with torch.no_grad():\n",
    "        network.eval()\n",
    "        network.to(device)\n",
    "        \n",
    "        lambdas = dict()\n",
    "        for label in points['labels']:\n",
    "            raw_counts = torch.tensor(point['counts'][label]).unsqueeze(0).unsqueeze(0).to(device)\n",
    "            lambda_estimate = network.process(raw_counts)\n",
    "            lambda_estimate[lambda_estimate<0] = 0\n",
    "            lambda_estimate = lambda_estimate[0,0,:,:].detach().cpu().numpy()\n",
    "            lambdas[label] = lambda_estimate\n",
    "        point['lambdas'] = lambdas\n",
    "    return point\n",
    "\n",
    "def savePoint_mat(point, point_path):\n",
    "    scipy_io.savemat(point_path + '.mat', point)"
   ]
  },
  {
   "cell_type": "code",
   "execution_count": 16,
   "metadata": {},
   "outputs": [],
   "source": [
    "point = loadTIFF_folder('/Users/raymondbaranski/Downloads/16_31773_4_8')\n",
    "savePoint_mat(point, '/Users/raymondbaranski/Desktop/16_31773_4_8')"
   ]
  },
  {
   "cell_type": "code",
   "execution_count": 12,
   "metadata": {},
   "outputs": [
    {
     "data": {
      "text/plain": [
       "{'Image SubfileType': (0x00FE) Long=Full-resolution Image @ 667704,\n",
       " 'Image ImageWidth': (0x0100) Short=2048 @ 667716,\n",
       " 'Image ImageLength': (0x0101) Short=2048 @ 667728,\n",
       " 'Image BitsPerSample': (0x0102) Short=8 @ 667740,\n",
       " 'Image Compression': (0x0103) Short=Deflate @ 667752,\n",
       " 'Image PhotometricInterpretation': (0x0106) Short=1 @ 667764,\n",
       " 'Image StripOffsets': (0x0111) Long=[8, 7013, 16570, 24653, 33648, 42276, 51121, 61463, 71522, 80955, 90912, 101848, 113077, 124602, 134243, 143091, 151724, 160224, 168976, 177951, ... ] @ 668188,\n",
       " 'Image Orientation': (0x0112) Short=Horizontal (normal) @ 667788,\n",
       " 'Image SamplesPerPixel': (0x0115) Short=1 @ 667800,\n",
       " 'Image RowsPerStrip': (0x0116) Short=32 @ 667812,\n",
       " 'Image StripByteCounts': (0x0117) Long=[7005, 9557, 8083, 8995, 8628, 8845, 10342, 10059, 9433, 9957, 10936, 11229, 11525, 9641, 8848, 8633, 8500, 8752, 8975, 7824, ... ] @ 667932,\n",
       " 'Image MinSampleValue': (0x0118) Short=0 @ 667836,\n",
       " 'Image MaxSampleValue': (0x0119) Short=255 @ 667848,\n",
       " 'Image XResolution': (0x011A) Ratio=72 @ 667916,\n",
       " 'Image YResolution': (0x011B) Ratio=72 @ 667924,\n",
       " 'Image PlanarConfiguration': (0x011C) Short=1 @ 667884,\n",
       " 'Image ResolutionUnit': (0x0128) Short=Pixels/Inch @ 667896,\n",
       " 'Image SampleFormat': (0x0153) Short=Unsigned @ 667908}"
      ]
     },
     "execution_count": 12,
     "metadata": {},
     "output_type": "execute_result"
    }
   ],
   "source": []
  },
  {
   "cell_type": "code",
   "execution_count": null,
   "metadata": {},
   "outputs": [],
   "source": []
  }
 ],
 "metadata": {
  "kernelspec": {
   "display_name": "Python 3",
   "language": "python",
   "name": "python3"
  },
  "language_info": {
   "codemirror_mode": {
    "name": "ipython",
    "version": 3
   },
   "file_extension": ".py",
   "mimetype": "text/x-python",
   "name": "python",
   "nbconvert_exporter": "python",
   "pygments_lexer": "ipython3",
   "version": "3.6.7"
  }
 },
 "nbformat": 4,
 "nbformat_minor": 4
}
