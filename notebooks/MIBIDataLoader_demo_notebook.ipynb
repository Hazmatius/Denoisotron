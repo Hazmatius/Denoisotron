{
 "cells": [
  {
   "cell_type": "code",
   "execution_count": 2,
   "metadata": {},
   "outputs": [
    {
     "data": {
      "text/html": [
       "<style>.container { width:100% !important; }</style>"
      ],
      "text/plain": [
       "<IPython.core.display.HTML object>"
      ]
     },
     "metadata": {},
     "output_type": "display_data"
    }
   ],
   "source": [
    "from IPython.core.display import display, HTML\n",
    "display(HTML(\"<style>.container { width:100% !important; }</style>\"))\n",
    "\n",
    "import torch\n",
    "import os\n",
    "import sys\n",
    "%matplotlib notebook\n",
    "\n",
    "pwd = os.path.abspath(os.path.join('.'))\n",
    "pwd = pwd.split('/')\n",
    "pwd = pwd[0:-1]\n",
    "pwd.append('src')\n",
    "\n",
    "module_path = '/'.join(pwd)\n",
    "if module_path not in sys.path:\n",
    "    sys.path.append(module_path)\n",
    "\n",
    "from mibi_dataloader import MIBIDataLoader\n",
    "\n",
    "main_folder = '/Users/raymondbaranski/GitHub/Denoisotron/demo_data/'"
   ]
  },
  {
   "cell_type": "markdown",
   "metadata": {},
   "source": [
    "<code>\n",
    "MIBIDataLoader(data_folder, input_format, output_format, label_args, **kwargs)\n",
    "\n",
    ":param data_folder: directory where all data for the dataset is stored\n",
    "\n",
    ":param input_format: input_format should be one of ['single_tiff', 'multi_tiff', 'tiff_folder', 'mat_file']\n",
    "       use 'single_tiff' to load data that is stored as single-page tiff files\n",
    "       use 'multi_tiff' to load data that is stored as multi-page tiff files\n",
    "       use 'tiff_folder' to load data that is stored as point-folders of tiffs\n",
    "       use 'mat_file' to load data that is stored in a .mat file\n",
    "\n",
    ":param output_format: output_format should be one of ['point', 'marker', 'pixel']\n",
    "       use 'point' to organize the data as MIBI Points\n",
    "       use 'marker' to organize the data as separate channels (markers, labels)\n",
    "       use 'pixel' to organize the data as separate pixels\n",
    "\n",
    ":param label_args: label_args should be either 'none', or a dictionary\n",
    "       use 'none' if there are no labels to load\n",
    "       if label_args is a dictionary, the expected keys are:\n",
    "       :key label_type: label_type should be one of ['regression', 'categorical']\n",
    "            if label_type is 'categorical', you will also need...\n",
    "            :key label_dict: a dictionary with label names as keys and integers as values, provides a mapping\n",
    "                 from label names to numeric values usable by a neural network\n",
    "       :key label_format: label_format should be one of ['image', 'folder', 'csv']\n",
    "            if label_format is 'csv', you will also need...\n",
    "            :key csv_path: path to a csv file full of labels\n",
    "\n",
    ":keyword markers: an optional keyword argument, specifies which markers to use in the dataset\n",
    "\n",
    ":keyword field: an optional keyword argument, specifies the field in a .mat file you want to load from\n",
    "\n",
    ":return: Returns a dictionary with the following keys...\n",
    "         :key samples: all of the individual data points loaded from 'data_folder' organized according to\n",
    "              'output_format'.\n",
    "         :key sources: a string for each data point in 'samples' recording where the data point came from\n",
    "         Optionally can contain:\n",
    "         :key labels: the label of each data point in samples, either a continuous value or an integer\n",
    "         :key labels_onehot: if categorical, the one-hot vector version of each integer label\n",
    "<code>"
   ]
  },
  {
   "cell_type": "code",
   "execution_count": null,
   "metadata": {},
   "outputs": [],
   "source": [
    "data_folder = main_folder + 'no_labels/' + 'tif_folders/'\n",
    "input_format = 'tiff_folder'\n",
    "output_format = 'marker'\n",
    "label_args = 'none'\n",
    "\n",
    "dataset = MIBIDataLoader(data_folder, input_format, output_format, label_args)"
   ]
  },
  {
   "cell_type": "code",
   "execution_count": null,
   "metadata": {},
   "outputs": [],
   "source": [
    "data_folder = main_folder + 'csv/' + 'multi_tifs/'\n",
    "input_format = 'multi_tiff'\n",
    "output_format = 'point'\n",
    "label_args = dict()\n",
    "label_args['label_type'] = 'categorical'\n",
    "label_args['label_format'] = 'csv'\n",
    "label_args['csv_path'] = main_folder + 'csv/labels_numeric.csv'\n",
    "label_args['label_dict'] = {'A':0, 'B':1}\n",
    "\n",
    "dataset = MIBIDataLoader(data_folder, input_format, output_format, label_args)"
   ]
  },
  {
   "cell_type": "code",
   "execution_count": 3,
   "metadata": {},
   "outputs": [],
   "source": [
    "data_folder = main_folder + 'image_labeled/' + 'mat_files/'\n",
    "input_format = 'mat_file'\n",
    "output_format = 'pixel'\n",
    "label_args = dict()\n",
    "label_args['label_type'] = 'regression'\n",
    "label_args['label_format'] = 'image'\n",
    "\n",
    "markers = ['CD45', 'H3', 'HLAG']\n",
    "field = 'lambdas'\n",
    "\n",
    "dataset = MIBIDataLoader(data_folder, input_format, output_format, label_args, markers=markers, field=field)"
   ]
  },
  {
   "cell_type": "code",
   "execution_count": 5,
   "metadata": {},
   "outputs": [
    {
     "name": "stdout",
     "output_type": "stream",
     "text": [
      "No fields are cropable, setting crop and stride to None\n"
     ]
    }
   ],
   "source": [
    "dataset.set_return_fields(['samples', 'labels'])"
   ]
  },
  {
   "cell_type": "code",
   "execution_count": 6,
   "metadata": {},
   "outputs": [],
   "source": [
    "samples = dataset.get_samples([0])"
   ]
  },
  {
   "cell_type": "code",
   "execution_count": 9,
   "metadata": {},
   "outputs": [
    {
     "data": {
      "text/plain": [
       "torch.Size([1])"
      ]
     },
     "execution_count": 9,
     "metadata": {},
     "output_type": "execute_result"
    }
   ],
   "source": [
    "samples['labels'][0].shape"
   ]
  },
  {
   "cell_type": "code",
   "execution_count": null,
   "metadata": {},
   "outputs": [],
   "source": []
  }
 ],
 "metadata": {
  "kernelspec": {
   "display_name": "Python 3",
   "language": "python",
   "name": "python3"
  },
  "language_info": {
   "codemirror_mode": {
    "name": "ipython",
    "version": 3
   },
   "file_extension": ".py",
   "mimetype": "text/x-python",
   "name": "python",
   "nbconvert_exporter": "python",
   "pygments_lexer": "ipython3",
   "version": "3.6.7"
  }
 },
 "nbformat": 4,
 "nbformat_minor": 4
}
