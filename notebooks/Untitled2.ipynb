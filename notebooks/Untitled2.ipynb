{
 "cells": [
  {
   "cell_type": "code",
   "execution_count": 1,
   "metadata": {},
   "outputs": [
    {
     "data": {
      "text/html": [
       "<style>.container { width:100% !important; }</style>"
      ],
      "text/plain": [
       "<IPython.core.display.HTML object>"
      ]
     },
     "metadata": {},
     "output_type": "display_data"
    }
   ],
   "source": [
    "from IPython.core.display import display, HTML\n",
    "display(HTML(\"<style>.container { width:100% !important; }</style>\"))\n",
    "\n",
    "import torch\n",
    "import kornia\n",
    "import numpy as np\n",
    "import gc\n",
    "import os\n",
    "import sys\n",
    "%matplotlib notebook\n",
    "import matplotlib.pyplot as plt\n",
    "\n",
    "pwd = os.path.abspath(os.path.join('.'))\n",
    "pwd = pwd.split('/')\n",
    "pwd = pwd[0:-1]\n",
    "pwd.append('src')\n",
    "\n",
    "module_path = '/'.join(pwd)\n",
    "if module_path not in sys.path:\n",
    "    sys.path.append(module_path)\n",
    "\n",
    "from helpers import Trainer\n",
    "from helpers import Logger\n",
    "from helpers import Trial\n",
    "from mibi_dataloader import PointReader\n",
    "from modules import Distiller\n",
    "from criteria import DistillerLoss\n",
    "import utils"
   ]
  },
  {
   "cell_type": "code",
   "execution_count": 6,
   "metadata": {},
   "outputs": [],
   "source": [
    "data_dir = '/Users/raymondbaranski/Desktop/data/'\n",
    "label_args = dict()\n",
    "label_args['label_type'] = 'categorical'\n",
    "label_args['label_format'] = 'csv'\n",
    "label_args['csv_path'] = data_dir + 'mat_files/labels.csv'\n",
    "label_dict = dict()\n",
    "label_dict['A'] = 0\n",
    "label_dict['B'] = 1\n",
    "label_args['label_dict'] = label_dict\n",
    "results = PointReader.load_data(data_dir + 'mat_files', 'mat_file', 'marker', label_args, markers=['H3', 'HLADR', 'HLAG'], field='lambdas')"
   ]
  },
  {
   "cell_type": "code",
   "execution_count": 7,
   "metadata": {},
   "outputs": [
    {
     "data": {
      "text/plain": [
       "{'data_paths': ['/Users/raymondbaranski/Desktop/data/mat_files/Point2.mat',\n",
       "  '/Users/raymondbaranski/Desktop/data/mat_files/Point1.mat'],\n",
       " 'point_labels': [0.0, 1.0],\n",
       " 'samples': [tensor([[[[4., 1., 0.,  ..., 0., 0., 2.],\n",
       "            [2., 4., 1.,  ..., 0., 0., 0.],\n",
       "            [1., 0., 3.,  ..., 0., 0., 0.],\n",
       "            ...,\n",
       "            [0., 0., 1.,  ..., 1., 0., 1.],\n",
       "            [0., 0., 0.,  ..., 0., 0., 2.],\n",
       "            [0., 0., 0.,  ..., 1., 0., 0.]]]]),\n",
       "  tensor([[[[0., 0., 0.,  ..., 2., 1., 0.],\n",
       "            [0., 0., 0.,  ..., 0., 0., 0.],\n",
       "            [0., 0., 0.,  ..., 0., 0., 0.],\n",
       "            ...,\n",
       "            [0., 0., 0.,  ..., 0., 0., 0.],\n",
       "            [0., 0., 0.,  ..., 0., 0., 0.],\n",
       "            [0., 0., 0.,  ..., 0., 0., 0.]]]]),\n",
       "  tensor([[[[0., 0., 0.,  ..., 2., 4., 1.],\n",
       "            [1., 0., 0.,  ..., 7., 4., 3.],\n",
       "            [0., 0., 0.,  ..., 5., 6., 8.],\n",
       "            ...,\n",
       "            [0., 0., 0.,  ..., 0., 0., 0.],\n",
       "            [0., 0., 0.,  ..., 0., 0., 0.],\n",
       "            [0., 0., 0.,  ..., 0., 0., 0.]]]]),\n",
       "  tensor([[[[4., 1., 0.,  ..., 0., 0., 2.],\n",
       "            [2., 4., 1.,  ..., 0., 0., 0.],\n",
       "            [1., 0., 3.,  ..., 0., 0., 0.],\n",
       "            ...,\n",
       "            [0., 0., 1.,  ..., 1., 0., 1.],\n",
       "            [0., 0., 0.,  ..., 0., 0., 2.],\n",
       "            [0., 0., 0.,  ..., 1., 0., 0.]]]]),\n",
       "  tensor([[[[0., 0., 0.,  ..., 2., 1., 0.],\n",
       "            [0., 0., 0.,  ..., 0., 0., 0.],\n",
       "            [0., 0., 0.,  ..., 0., 0., 0.],\n",
       "            ...,\n",
       "            [0., 0., 0.,  ..., 0., 0., 0.],\n",
       "            [0., 0., 0.,  ..., 0., 0., 0.],\n",
       "            [0., 0., 0.,  ..., 0., 0., 0.]]]]),\n",
       "  tensor([[[[0., 0., 0.,  ..., 2., 4., 1.],\n",
       "            [1., 0., 0.,  ..., 7., 4., 3.],\n",
       "            [0., 0., 0.,  ..., 5., 6., 8.],\n",
       "            ...,\n",
       "            [0., 0., 0.,  ..., 0., 0., 0.],\n",
       "            [0., 0., 0.,  ..., 0., 0., 0.],\n",
       "            [0., 0., 0.,  ..., 0., 0., 0.]]]])],\n",
       " 'sources': ['/Users/raymondbaranski/Desktop/data/tif_folders/Point2:H3',\n",
       "  '/Users/raymondbaranski/Desktop/data/tif_folders/Point2:HLADR',\n",
       "  '/Users/raymondbaranski/Desktop/data/tif_folders/Point2:HLAG',\n",
       "  '/Users/raymondbaranski/Desktop/data/tif_folders/Point1:H3',\n",
       "  '/Users/raymondbaranski/Desktop/data/tif_folders/Point1:HLADR',\n",
       "  '/Users/raymondbaranski/Desktop/data/tif_folders/Point1:HLAG'],\n",
       " 'raw_labels': [0.0, 0.0, 0.0, 1.0, 1.0, 1.0],\n",
       " 'labels': [0, 0, 0, 1, 1, 1],\n",
       " 'labels_onehot': [tensor([[1., 0.]]),\n",
       "  tensor([[1., 0.]]),\n",
       "  tensor([[1., 0.]]),\n",
       "  tensor([[0., 1.]]),\n",
       "  tensor([[0., 1.]]),\n",
       "  tensor([[0., 1.]])]}"
      ]
     },
     "execution_count": 7,
     "metadata": {},
     "output_type": "execute_result"
    }
   ],
   "source": [
    "results"
   ]
  },
  {
   "cell_type": "code",
   "execution_count": null,
   "metadata": {},
   "outputs": [],
   "source": []
  }
 ],
 "metadata": {
  "kernelspec": {
   "display_name": "Python 3",
   "language": "python",
   "name": "python3"
  },
  "language_info": {
   "codemirror_mode": {
    "name": "ipython",
    "version": 3
   },
   "file_extension": ".py",
   "mimetype": "text/x-python",
   "name": "python",
   "nbconvert_exporter": "python",
   "pygments_lexer": "ipython3",
   "version": "3.6.7"
  }
 },
 "nbformat": 4,
 "nbformat_minor": 4
}
